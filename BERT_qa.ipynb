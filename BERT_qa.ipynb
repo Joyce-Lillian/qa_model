{
  "nbformat": 4,
  "nbformat_minor": 0,
  "metadata": {
    "colab": {
      "name": "BERT_qa.ipynb",
      "provenance": [],
      "collapsed_sections": []
    },
    "kernelspec": {
      "name": "python3",
      "display_name": "Python 3"
    },
    "language_info": {
      "name": "python"
    }
  },
  "cells": [
    {
      "cell_type": "markdown",
      "metadata": {
        "id": "TK_sOsKoYKGN"
      },
      "source": [
        "# **INITIAL STEPS**"
      ]
    },
    {
      "cell_type": "code",
      "metadata": {
        "colab": {
          "base_uri": "https://localhost:8080/"
        },
        "id": "EpoY9V3Rb2HJ",
        "outputId": "8bcd34d3-13e7-461b-ad1e-053fdd3da5b6"
      },
      "source": [
        "!pip install transformers"
      ],
      "execution_count": 1,
      "outputs": [
        {
          "output_type": "stream",
          "text": [
            "Requirement already satisfied: transformers in /usr/local/lib/python3.7/dist-packages (4.7.0)\n",
            "Requirement already satisfied: filelock in /usr/local/lib/python3.7/dist-packages (from transformers) (3.0.12)\n",
            "Requirement already satisfied: tqdm>=4.27 in /usr/local/lib/python3.7/dist-packages (from transformers) (4.41.1)\n",
            "Requirement already satisfied: numpy>=1.17 in /usr/local/lib/python3.7/dist-packages (from transformers) (1.19.5)\n",
            "Requirement already satisfied: importlib-metadata; python_version < \"3.8\" in /usr/local/lib/python3.7/dist-packages (from transformers) (4.5.0)\n",
            "Requirement already satisfied: requests in /usr/local/lib/python3.7/dist-packages (from transformers) (2.23.0)\n",
            "Requirement already satisfied: huggingface-hub==0.0.8 in /usr/local/lib/python3.7/dist-packages (from transformers) (0.0.8)\n",
            "Requirement already satisfied: regex!=2019.12.17 in /usr/local/lib/python3.7/dist-packages (from transformers) (2019.12.20)\n",
            "Requirement already satisfied: sacremoses in /usr/local/lib/python3.7/dist-packages (from transformers) (0.0.45)\n",
            "Requirement already satisfied: tokenizers<0.11,>=0.10.1 in /usr/local/lib/python3.7/dist-packages (from transformers) (0.10.3)\n",
            "Requirement already satisfied: pyyaml in /usr/local/lib/python3.7/dist-packages (from transformers) (3.13)\n",
            "Requirement already satisfied: packaging in /usr/local/lib/python3.7/dist-packages (from transformers) (20.9)\n",
            "Requirement already satisfied: zipp>=0.5 in /usr/local/lib/python3.7/dist-packages (from importlib-metadata; python_version < \"3.8\"->transformers) (3.4.1)\n",
            "Requirement already satisfied: typing-extensions>=3.6.4; python_version < \"3.8\" in /usr/local/lib/python3.7/dist-packages (from importlib-metadata; python_version < \"3.8\"->transformers) (3.7.4.3)\n",
            "Requirement already satisfied: chardet<4,>=3.0.2 in /usr/local/lib/python3.7/dist-packages (from requests->transformers) (3.0.4)\n",
            "Requirement already satisfied: certifi>=2017.4.17 in /usr/local/lib/python3.7/dist-packages (from requests->transformers) (2021.5.30)\n",
            "Requirement already satisfied: urllib3!=1.25.0,!=1.25.1,<1.26,>=1.21.1 in /usr/local/lib/python3.7/dist-packages (from requests->transformers) (1.24.3)\n",
            "Requirement already satisfied: idna<3,>=2.5 in /usr/local/lib/python3.7/dist-packages (from requests->transformers) (2.10)\n",
            "Requirement already satisfied: click in /usr/local/lib/python3.7/dist-packages (from sacremoses->transformers) (7.1.2)\n",
            "Requirement already satisfied: joblib in /usr/local/lib/python3.7/dist-packages (from sacremoses->transformers) (1.0.1)\n",
            "Requirement already satisfied: six in /usr/local/lib/python3.7/dist-packages (from sacremoses->transformers) (1.15.0)\n",
            "Requirement already satisfied: pyparsing>=2.0.2 in /usr/local/lib/python3.7/dist-packages (from packaging->transformers) (2.4.7)\n"
          ],
          "name": "stdout"
        }
      ]
    },
    {
      "cell_type": "code",
      "metadata": {
        "id": "prsht_JscDOF"
      },
      "source": [
        "import torch\n",
        "\n",
        "from transformers import BertForQuestionAnswering\n",
        "\n",
        "model = BertForQuestionAnswering.from_pretrained('bert-large-uncased-whole-word-masking-finetuned-squad')"
      ],
      "execution_count": 2,
      "outputs": []
    },
    {
      "cell_type": "code",
      "metadata": {
        "id": "Z5XpKjVgcRKc"
      },
      "source": [
        "from transformers import BertTokenizer\n",
        "\n",
        "tokenizer = BertTokenizer.from_pretrained('bert-large-uncased-whole-word-masking-finetuned-squad')"
      ],
      "execution_count": 3,
      "outputs": []
    },
    {
      "cell_type": "markdown",
      "metadata": {
        "id": "n9lACHvxYUQX"
      },
      "source": [
        "# **PERSONAL TESTING**"
      ]
    },
    {
      "cell_type": "code",
      "metadata": {
        "id": "Ymh7XhnhcV5S"
      },
      "source": [
        "# question = \"How many parameters does BERT-large have?\"\n",
        "# answer_text = \"BERT-large is really big... it has 24-layers and an embedding size of 1,024, for a total of 340M parameters! Altogether it is 1.34GB, so expect it to take a couple minutes to download to your Colab instance.\""
      ],
      "execution_count": 6,
      "outputs": []
    },
    {
      "cell_type": "code",
      "metadata": {
        "colab": {
          "base_uri": "https://localhost:8080/"
        },
        "id": "nW30jDIscYyA",
        "outputId": "884c0bc8-50ba-4fef-98cd-caece286e221"
      },
      "source": [
        "# # Apply the tokenizer to the input text, treating them as a text-pair.\n",
        "# input_ids = tokenizer.encode(question, answer_text, max_length=5000, truncation = True)\n",
        "\n",
        "# print('The input has a total of {:} tokens.'.format(len(input_ids)))"
      ],
      "execution_count": 7,
      "outputs": [
        {
          "output_type": "stream",
          "text": [
            "The input has a total of 70 tokens.\n"
          ],
          "name": "stdout"
        }
      ]
    },
    {
      "cell_type": "code",
      "metadata": {
        "id": "dF1D_dwAccod"
      },
      "source": [
        "# # Search the input_ids for the first instance of the `[SEP]` token.\n",
        "# sep_index = input_ids.index(tokenizer.sep_token_id)\n",
        "\n",
        "# # The number of segment A tokens includes the [SEP] token istelf.\n",
        "# num_seg_a = sep_index + 1\n",
        "\n",
        "# # The remainder are segment B.\n",
        "# num_seg_b = len(input_ids) - num_seg_a\n",
        "\n",
        "# # Construct the list of 0s and 1s.\n",
        "# segment_ids = [0]*num_seg_a + [1]*num_seg_b\n",
        "\n",
        "# # There should be a segment_id for every input token.\n",
        "# assert len(segment_ids) == len(input_ids)"
      ],
      "execution_count": 8,
      "outputs": []
    },
    {
      "cell_type": "code",
      "metadata": {
        "id": "on003w24cfPj"
      },
      "source": [
        "# # Run our example through the model.\n",
        "# start_scores, end_scores = model(torch.tensor([input_ids]), # The tokens representing our input text.\n",
        "#                                  token_type_ids=torch.tensor([segment_ids]), return_dict=False) # The segment IDs to differentiate question from answer_text\n"
      ],
      "execution_count": 9,
      "outputs": []
    },
    {
      "cell_type": "code",
      "metadata": {
        "id": "nLsyKtggdaAy"
      },
      "source": [
        "# tokens = tokenizer.convert_ids_to_tokens(input_ids)"
      ],
      "execution_count": 10,
      "outputs": []
    },
    {
      "cell_type": "code",
      "metadata": {
        "colab": {
          "base_uri": "https://localhost:8080/"
        },
        "id": "yWvtVawVciay",
        "outputId": "4758992f-eec1-45bb-a1c6-5d1b1df6932c"
      },
      "source": [
        "# # Find the tokens with the highest `start` and `end` scores.\n",
        "# answer_start = torch.argmax(start_scores)\n",
        "# answer_end = torch.argmax(end_scores)\n",
        "\n",
        "# # Start with the first token.\n",
        "# answer = tokens[answer_start]\n",
        "\n",
        "# # Select the remaining answer tokens and join them with whitespace.\n",
        "# for i in range(answer_start + 1, answer_end + 1):\n",
        "    \n",
        "#     # If it's a subword token, then recombine it with the previous token.\n",
        "#     if tokens[i][0:2] == '##':\n",
        "#         answer += tokens[i][2:]\n",
        "    \n",
        "#     # Otherwise, add a space then the token.\n",
        "#     else:\n",
        "#         answer += ' ' + tokens[i]\n",
        "\n",
        "# print('Answer: \"' + answer + '\"')"
      ],
      "execution_count": 11,
      "outputs": [
        {
          "output_type": "stream",
          "text": [
            "Answer: \"340m\"\n"
          ],
          "name": "stdout"
        }
      ]
    },
    {
      "cell_type": "markdown",
      "metadata": {
        "id": "7DGnKka-X_CZ"
      },
      "source": [
        "# **QA FUNCTIONS BELOW**\n"
      ]
    },
    {
      "cell_type": "code",
      "metadata": {
        "id": "INlFmhv1Ms7Y"
      },
      "source": [
        "def check_split (input_ids):\n",
        "    ''' \n",
        "    Splits data if there are more than 512 tokens, which is BERT's \n",
        "    limit context input\n",
        "    '''\n",
        "    print(\"length of input_ids: \"+str(len(input_ids)))\n",
        "    # Keep track of answer splits\n",
        "    answer_splits = []\n",
        "    # Total number of splits due to the number of tokens and BERT limit of 512\n",
        "    num_of_splits = 0\n",
        "    # Number of tokens\n",
        "    len_input = len(input_ids)\n",
        "\n",
        "    # Determine number of splits required\n",
        "    if (len_input > 512):\n",
        "        if len_input % 512 == 0:\n",
        "            num_of_splits = len_input / 512\n",
        "        else:\n",
        "            num_of_splits = int(len_input /  512) + 1\n",
        "\n",
        "    print(\"number of splits: \"+str(num_of_splits))\n",
        "\n",
        "    temp_ids = input_ids\n",
        "     # Compute answer for all splits\n",
        "    # for i in range(0, num_of_splits+1):\n",
        "    for i in range(1):\n",
        "        ind = (i+1)*512\n",
        "        text_split_i = temp_ids[:ind]\n",
        "        print(\"ind: \"+str(ind))\n",
        "        print(\"Computing answer for split i: \"+ str(text_split_i))\n",
        "        answer_splits.append(split_answer(text_split_i))\n",
        "        temp_ids = input_ids[ind:]\n",
        "    print(\"testing to see if rest still works\")\n",
        "    # print(split_answer(input_ids))\n",
        "    \n",
        "    return answer_splits\n",
        "\n",
        "\n",
        "def answer_question(question, answer_text):\n",
        "    '''\n",
        "    Tokenizes the question and answer text\n",
        "    '''\n",
        "\n",
        "    input_ids = tokenizer.encode(question, answer_text)\n",
        "    check_split (input_ids)\n",
        "\n",
        "                                                                   \n",
        "\n",
        "def split_answer (input_ids):\n",
        "    '''\n",
        "    Determines answer start and ending indexes for split_input\n",
        "    '''\n",
        "    # Report how long the input sequence is.\n",
        "    print('Query has {:,} tokens.\\n'.format(len(input_ids)))\n",
        "\n",
        "    # ======== Set Segment IDs ========\n",
        "    # Search the input_ids for the first instance of the `[SEP]` token.\n",
        "    sep_index = input_ids.index(tokenizer.sep_token_id)\n",
        "\n",
        "    # The number of segment A tokens includes the [SEP] token istelf.\n",
        "    num_seg_a = sep_index + 1\n",
        "\n",
        "    # The remainder are segment B.\n",
        "    num_seg_b = len(input_ids) - num_seg_a\n",
        "\n",
        "    # Construct the list of 0s and 1s.\n",
        "    segment_ids = [0]*num_seg_a + [1]*num_seg_b\n",
        "\n",
        "    # There should be a segment_id for every input token.\n",
        "    assert len(segment_ids) == len(input_ids)\n",
        "\n",
        "    # ======== Evaluate ========\n",
        "    # Run our example question through the model.\n",
        "    start_scores, end_scores = model(torch.tensor([input_ids]), # The tokens representing our input text.\n",
        "                                    token_type_ids=torch.tensor([segment_ids]), return_dict=False) # The segment IDs to differentiate question from answer_text\n",
        "\n",
        "    # ======== Reconstruct Answer ========\n",
        "    # Find the tokens with the highest `start` and `end` scores.\n",
        "    answer_start = torch.argmax(start_scores)\n",
        "    answer_end = torch.argmax(end_scores)\n",
        "\n",
        "    # Get the string versions of the input tokens.\n",
        "    tokens = tokenizer.convert_ids_to_tokens(input_ids)\n",
        "\n",
        "    answer = full_sentence (tokens, answer_start, answer_end)\n",
        "    \n",
        "\n",
        "    print('Answer: \"' + answer + '\"')"
      ],
      "execution_count": 53,
      "outputs": []
    },
    {
      "cell_type": "code",
      "metadata": {
        "id": "6TepUxjpyNdl"
      },
      "source": [
        "def start_of_sentence (tokens, answer_start, answer_end):\n",
        "\n",
        "    # Start with the first token and/or first letter in sentence\n",
        "    if tokens[answer_start-1] == '.' or tokens[answer_start] == None:\n",
        "        answer = tokens[answer_start]\n",
        "    \n",
        "    # Otherwise keep searching for the beginning of the sentence\n",
        "    else: \n",
        "        while tokens[answer_start].isalnum() == False:                                    # ADD OR StATEMENT TOO??\n",
        "            print(tokens[answer_start])\n",
        "            answer_start-=1\n",
        "    \n",
        "    # Find the last letter in the sentence\n",
        "    if tokens[answer_end].isalnum() == False:                                              # ADD OR StATEMENT TOO??\n",
        "        while (tokens[answer_end] != '.' or answer_end+1 >= len(tokens)) and (len(tokens) > answer_end+1):\n",
        "            answer_end+=1\n",
        "\n",
        "    return tokens[answer_start], answer_start, answer_end\n",
        "\n",
        "def update_tokens(answer, tokens, answer_start, answer_end):\n",
        "\n",
        "    # Select the remaining answer tokens and join them with whitespace.\n",
        "    for i in range(answer_start + 1, answer_end + 1):\n",
        "\n",
        "        # If it's a subword token, then recombine it with the previous token.\n",
        "        if tokens[i][0:2] == '##':\n",
        "            answer += tokens[i][2:]\n",
        "        \n",
        "        # If there is a punctuation mark, then combine without space\n",
        "        elif tokens[i].isalnum() == False:\n",
        "            answer += tokens[i]\n",
        "        \n",
        "        # Otherwise, add a space then the token.\n",
        "        else:\n",
        "            answer += ' ' + tokens[i]\n",
        "    \n",
        "    return answer\n",
        "\n",
        "def update_punctuation (answer):\n",
        "    \n",
        "    # Set beginning of sentence to a letter\n",
        "    while answer[0].isalnum() == False:\n",
        "        answer = answer[1:]\n",
        "\n",
        "    # Set end of sentence to a letter\n",
        "    len_answer = len(answer)\n",
        "    while answer[len_answer-1].isalnum() == False:\n",
        "        answer = answer[:len_answer-1]\n",
        "        len_answer-=1\n",
        "    \n",
        "    return answer\n",
        "\n",
        "def full_sentence (tokens, answer_start, answer_end):\n",
        "\n",
        "    # Update indices to include full sentence\n",
        "    new_res = start_of_sentence(tokens, answer_start, answer_end)\n",
        "    answer = new_res[0]\n",
        "    answer_start = new_res[1]\n",
        "    answer_end = new_res[2]\n",
        "\n",
        "    # Update answer to include correct spacing with punctuation and combine ## tokens\n",
        "    answer = update_tokens(answer, tokens, answer_start, answer_end)\n",
        "\n",
        "    # Remove extraneous punctuation from start and end\n",
        "    answer = update_punctuation(answer)\n",
        "\n",
        "    # Capitalize the first letter and add period punctuation to end\n",
        "    return answer[0].upper()+answer[1:]+'.'\n"
      ],
      "execution_count": 54,
      "outputs": []
    },
    {
      "cell_type": "code",
      "metadata": {
        "colab": {
          "base_uri": "https://localhost:8080/"
        },
        "id": "UiTaQnUXMdGK",
        "outputId": "d1aecb09-fa64-4d21-e1ea-bf360739bdd0"
      },
      "source": [
        "bert_abstract = \"Purchased Content. When you purchase an item of content, your content will be stored in a digital locker and you may view it an unlimited number of times for during your Locker Period. The “Locker Period” will be for at least 5 years from the date of your purchase (subject to the restrictions described in the YouTube Paid Service Terms of Service). Each item of purchased content may have a different Locker Period and you agree to the Locker Period before you order it. Pausing, stopping, or rewinding purchased content will not extend the Locker Period.  As noted in the YouTube Paid Service Terms of Service, if an item of purchased content becomes unavailable during the five year period from the purchase date, you may request a refund. For purchased content: you may view one stream of each item at a time, you may view up to 3 streams of different items at a time, you may authorize up to 5 devices for offline playback of Locker Video Content at a time and to authorize additional devices, you must deauthorize one of those 5 devices, you may only authorize the same device three times in any 12 month period and de-authorize the same device twice in any 12 month period, you may only deauthorize a total of 2 devices for offline playback every 90 days, and you may only authorize 3 Google accounts on the same device. Stream and offline playback limitations for purchased content apply regardless of which Google product (e.g., Google Play Movies & TV or YouTube) you access the content from.\"\n",
        "question = \"Can I get a refund?\"\n",
        "\n",
        "answer_question(question, bert_abstract)\n"
      ],
      "execution_count": 55,
      "outputs": [
        {
          "output_type": "stream",
          "text": [
            "length of input_ids: 323\n",
            "number of splits: 0\n",
            "ind: 512\n",
            "Computing answer for split i: [101, 2064, 1045, 2131, 1037, 25416, 8630, 1029, 102, 4156, 4180, 1012, 2043, 2017, 5309, 2019, 8875, 1997, 4180, 1010, 2115, 4180, 2097, 2022, 8250, 1999, 1037, 3617, 12625, 1998, 2017, 2089, 3193, 2009, 2019, 14668, 2193, 1997, 2335, 2005, 2076, 2115, 12625, 2558, 1012, 1996, 1523, 12625, 2558, 1524, 2097, 2022, 2005, 2012, 2560, 1019, 2086, 2013, 1996, 3058, 1997, 2115, 5309, 1006, 3395, 2000, 1996, 9259, 2649, 1999, 1996, 7858, 3825, 2326, 3408, 1997, 2326, 1007, 1012, 2169, 8875, 1997, 4156, 4180, 2089, 2031, 1037, 2367, 12625, 2558, 1998, 2017, 5993, 2000, 1996, 12625, 2558, 2077, 2017, 2344, 2009, 1012, 20490, 1010, 7458, 1010, 2030, 2128, 11101, 2075, 4156, 4180, 2097, 2025, 7949, 1996, 12625, 2558, 1012, 2004, 3264, 1999, 1996, 7858, 3825, 2326, 3408, 1997, 2326, 1010, 2065, 2019, 8875, 1997, 4156, 4180, 4150, 20165, 2076, 1996, 2274, 2095, 2558, 2013, 1996, 5309, 3058, 1010, 2017, 2089, 5227, 1037, 25416, 8630, 1012, 2005, 4156, 4180, 1024, 2017, 2089, 3193, 2028, 5460, 1997, 2169, 8875, 2012, 1037, 2051, 1010, 2017, 2089, 3193, 2039, 2000, 1017, 9199, 1997, 2367, 5167, 2012, 1037, 2051, 1010, 2017, 2089, 3166, 4697, 2039, 2000, 1019, 5733, 2005, 2125, 4179, 18245, 1997, 12625, 2678, 4180, 2012, 1037, 2051, 1998, 2000, 3166, 4697, 3176, 5733, 1010, 2017, 2442, 26709, 14317, 10050, 4371, 2028, 1997, 2216, 1019, 5733, 1010, 2017, 2089, 2069, 3166, 4697, 1996, 2168, 5080, 2093, 2335, 1999, 2151, 2260, 3204, 2558, 1998, 2139, 1011, 3166, 4697, 1996, 2168, 5080, 3807, 1999, 2151, 2260, 3204, 2558, 1010, 2017, 2089, 2069, 26709, 14317, 10050, 4371, 1037, 2561, 1997, 1016, 5733, 2005, 2125, 4179, 18245, 2296, 3938, 2420, 1010, 1998, 2017, 2089, 2069, 3166, 4697, 1017, 8224, 6115, 2006, 1996, 2168, 5080, 1012, 5460, 1998, 2125, 4179, 18245, 12546, 2005, 4156, 4180, 6611, 7539, 1997, 2029, 8224, 4031, 1006, 1041, 1012, 1043, 1012, 1010, 8224, 2377, 5691, 1004, 2694, 2030, 7858, 1007, 2017, 3229, 1996, 4180, 2013, 1012, 102]\n",
            "Query has 323 tokens.\n",
            "\n",
            "Answer: \"If an item of purchased content becomes unavailable during the five year period from the purchase date.\"\n",
            "testing to see if rest still works\n"
          ],
          "name": "stdout"
        }
      ]
    },
    {
      "cell_type": "markdown",
      "metadata": {
        "id": "NViVhj-z7CPp"
      },
      "source": [
        "# **WEB SCRAPING**"
      ]
    },
    {
      "cell_type": "code",
      "metadata": {
        "colab": {
          "base_uri": "https://localhost:8080/"
        },
        "id": "tfOC51LQ9NcJ",
        "outputId": "fc76cde3-9b73-4a40-c56c-4c53a62dd7f2"
      },
      "source": [
        "# from bs4 import BeautifulSoup\n",
        "# from bs4.element import Comment\n",
        "# import urllib.request\n",
        "\n",
        "\n",
        "# def tag_visible(element):\n",
        "#     if element.parent.name in ['style', 'script', 'head', 'title', 'meta', '[document]']:\n",
        "#         return False\n",
        "#     if isinstance(element, Comment):\n",
        "#         return False\n",
        "#     return True\n",
        "\n",
        "\n",
        "# def text_from_html(body):\n",
        "#     soup = BeautifulSoup(body, 'html.parser')\n",
        "#     texts = soup.findAll(text=True)\n",
        "#     visible_texts = filter(tag_visible, texts)  \n",
        "#     return u\" \".join(t.strip() for t in visible_texts)\n",
        "# # youtube: https://www.youtube.com/t/usage_paycontent\n",
        "# # tinder: https://policies.tinder.com/terms/us/en\n",
        "# html = urllib.request.urlopen('https://policies.tinder.com/terms/us/en').read()\n",
        "# print(text_from_html(html))"
      ],
      "execution_count": 41,
      "outputs": [
        {
          "output_type": "stream",
          "text": [
            "Language English Español(MX) Company Jobs Contact Security Community Blog Tech Blog Press Support Partners Hey! Vina Spotify Legal Privacy Terms Cookie Policy Safety and Policy Center Safety Tips Community Guidelines Intellectual Property Terms of Use  Last revised on April 28, 2020  Welcome to Tinder, operated by Match Group, LLC (“us,” “we,” the “Company” or “Tinder”).  Notice to California subscribers: You may cancel your subscription, without penalty or obligation, at any time prior to midnight of the third business day following the date you subscribed. If you subscribed using your Apple ID, refunds are handled by Apple, not Tinder. If you wish to request a refund, please visit https://getsupport.apple.com . If you subscribed using your Google Play Store account or through Tinder Online: Contact customer support  1. Acceptance of Terms of Use Agreement.  By creating a Tinder account or by using any Tinder service, whether through a mobile device, mobile application or computer (collectively, the “Service”) you agree to be bound by (i) these Terms of Use, (ii) our Privacy Policy , Cookie Policy , Arbitration Procedures and Safety Tips , each of which is incorporated by reference into this Agreement, and (iii) any terms disclosed to you if you purchase or have purchased additional features, products or services we offer on the Service (collectively, this “Agreement”). If you do not accept and agree to be bound by all of the terms of this Agreement (other than the limited one-time opt out right for certain members provided for in Section 15), you should not use the Service.  We may make changes to this Agreement and to the Service from time to time. We may do this for a variety of reasons including to reflect changes in or requirements of the law, new features, or changes in business practices. The most recent version of this Agreement will be posted on the Service under Settings and also on gotinder.com, and you should regularly check for the most recent version. The most recent version is the version that applies. If the changes include material changes that affect your rights or obligations, we will notify you in advance of the changes by reasonable means, which could include notification through the Service or via email. If you continue to use the Service after the changes become effective, then you agree to the revised Agreement. You agree that this Agreement shall supersede any prior agreements (except as specifically stated herein), and shall govern your entire relationship with Tinder, including but not limited to events, agreements, and conduct preceding your acceptance of this Agreement.  2. Eligibility.  You must be at least 18 years of age to create an account on Tinder and use the Service. By creating an account and using the Service, you represent and warrant that:   you can form a binding contract with Tinder,  you are not a person who is barred from using the Service under the laws of the United States or any other applicable jurisdiction–meaning that you do not appear on the U.S. Treasury Department’s list of Specially Designated Nationals or face any other similar prohibition,  you will comply with this Agreement and all applicable local, state, national and international laws, rules and regulations, and  you have never been convicted of or pled no contest to a felony, a sex crime, or any crime involving violence, and that you are not required to register as a sex offender with any state, federal or local sex offender registry.   3. Your Account.  In order to use Tinder, you may sign in using your Facebook login.  If you do so, you authorize us to access and use certain Facebook account information, including but not limited to your public Facebook profile. For more information regarding the information we collect from you and how we use it, please consult our Privacy Policy .  You are responsible for maintaining the confidentiality of your login credentials you use to sign up for Tinder, and you are solely responsible for all activities that occur under those credentials. If you think someone has gained access to your account, please immediately contact us.  4. Modifying the Service and Termination.  Tinder is always striving to improve the Service and bring you additional functionality that you will find engaging and useful. This means we may add new product features or enhancements from time to time as well as remove some features, and if these actions do not materially affect your rights or obligations, we may not provide you with notice before taking them. We may even suspend the Service entirely, in which event we will notify you in advance unless extenuating circumstances, such as safety or security concerns, prevent us from doing so.  You may terminate your account at any time, for any reason, by following the instructions in “Settings” in the Service, however if you use a third party payment account, you will need to manage in app purchases through such account (e.g., iTunes, Google Play) to avoid additional billing.  Tinder may terminate your account at any time without notice if it believes that you have violated this Agreement. Upon such termination, you will not be entitled to any refund for purchases. After your account is terminated, this Agreement will terminate, except that the following provisions will still apply to you and Tinder: Section 4, Section 5, and Sections 12 through 19.  5. Safety; Your Interactions with Other Members.  Though Tinder strives to encourage a respectful member experience through features like the double opt-in that allows members to communicate only after they have both indicated interest in one another, it is not responsible for the conduct of any member on or off of the Service. You agree to use caution in all interactions with other members, particularly if you decide to communicate off the Service or meet in person. In addition, you agree to review and follow Tinder’s Safety Tips prior to using the Service. You agree that you will not provide your financial information (for example, your credit card or bank account information), or wire or otherwise send money, to other members.  YOU ARE SOLELY RESPONSIBLE FOR YOUR INTERACTIONS WITH OTHER MEMBERS. YOU UNDERSTAND THAT TINDER DOES NOT CONDUCT CRIMINAL BACKGROUND CHECKS ON ITS MEMBERS OR OTHERWISE INQUIRE INTO THE BACKGROUND OF ITS MEMBERS. TINDER MAKES NO REPRESENTATIONS OR WARRANTIES AS TO THE CONDUCT OF MEMBERS. TINDER RESERVES THE RIGHT TO CONDUCT – AND YOU AUTHORIZE TINDER TO CONDUCT – ANY CRIMINAL BACKGROUND CHECK OR OTHER SCREENINGS (SUCH AS SEX OFFENDER REGISTER SEARCHES) AT ANY TIME USING AVAILABLE PUBLIC RECORDS OBTAINED BY IT OR WITH THE ASSISTANCE OF A CONSUMER REPORTING AGENCY, AND YOU AGREE THAT ANY INFORMATION YOU PROVIDE MAY BE USED FOR THAT PURPOSE.  6. Rights Tinder Grants You.  Tinder grants you a personal, worldwide, royalty-free, non-assignable, nonexclusive, revocable, and non-sublicensable license to access and use the Service. This license is for the sole purpose of letting you use and enjoy the Service’s benefits as intended by Tinder and permitted by this Agreement. Therefore, you agree not to:   use the Service or any content contained in the Service for any commercial purposes without our written consent.  copy, modify, transmit, create any derivative works from, make use of, or reproduce in any way any copyrighted material, images, trademarks, trade names, service marks, or other intellectual property, content or proprietary information accessible through the Service without Tinder’s prior written consent.  express or imply that any statements you make are endorsed by Tinder.  use any robot, bot, spider, crawler, scraper, site search/retrieval application, proxy or other manual or automatic device, method or process to access, retrieve, index, “data mine,” or in any way reproduce or circumvent the navigational structure or presentation of the Service or its contents.  use the Service in any way that could interfere with, disrupt or negatively affect the Service or the servers or networks connected to the Service.  upload viruses or other malicious code or otherwise compromise the security of the Service.  forge headers or otherwise manipulate identifiers in order to disguise the origin of any information transmitted to or through the Service.  “frame” or “mirror” any part of the Service without Tinder’s prior written authorization.  use meta tags or code or other devices containing any reference to Tinder or the Service (or any trademark, trade name, service mark, logo or slogan of Tinder) to direct any person to any other website for any purpose.  modify, adapt, sublicense, translate, sell, reverse engineer, decipher, decompile or otherwise disassemble any portion of the Service, or cause others to do so.  use or develop any third-party applications that interact with the Service or other members’ Content or information without our written consent.  use, access, or publish the Tinder application programming interface without our written consent.  probe, scan or test the vulnerability of our Service or any system or network.  encourage or promote any activity that violates this Agreement.   Tinder may investigate and take any available legal action in response to illegal and/ or unauthorized uses of the Service, including termination of your account.  Any software that we provide you may automatically download and install upgrades, updates, or other new features. You may be able to adjust these automatic downloads through your device’s settings.  7. Rights you Grant Tinder.  By creating an account, you grant to Tinder a worldwide, transferable, sub-licensable, royalty-free, right and license to host, store, use, copy, display, reproduce, adapt, edit, publish, modify and distribute information you authorize us to access from Facebook, as well as any information you post, upload, display or otherwise make available (collectively, “post”) on the Service or transmit to other members (collectively, “Content”). Tinder’s license to your Content shall be non-exclusive, except that Tinder’s license shall be exclusive with respect to derivative works created through use of the Service. For example, Tinder would have an exclusive license to screenshots of the Service that include your Content. In addition, so that Tinder can prevent the use of your Content outside of the Service, you authorize Tinder to act on your behalf with respect to infringing uses of your Content taken from the Service by other members or third parties. This expressly includes the authority, but not the obligation, to send notices pursuant to 17 U.S.C. § 512(c)(3) (i.e., DMCA Takedown Notices) on your behalf if your Content is taken and used by third parties outside of the Service. Our license to your Content is subject to your rights under applicable law (for example laws regarding personal data protection to the extent any Content contains personal information as defined by those laws) and is for the limited purpose of operating, developing, providing, and improving the Service and researching and developing new ones. You agree that any Content you place or that you authorize us to place on the Service may be viewed by other members and may be viewed by any person visiting or participating in the Service (such as individuals who may receive shared Content from other Tinder members).  You agree that all information that you submit upon creation of your account, including information submitted from your Facebook account, is accurate and truthful and you have the right to post the Content on the Service and grant the license to Tinder above.  You understand and agree that we may monitor or review any Content you post as part of a Service. We may delete any Content, in whole or in part, that in our sole judgment violates this Agreement or may harm the reputation of the Service.  When communicating with our customer care representatives, you agree to be respectful and kind. If we feel that your behavior towards any of our customer care representatives or other employees is at any time threatening or offensive, we reserve the right to immediately terminate your account.  In consideration for Tinder allowing you to use the Service, you agree that we, our affiliates, and our third-party partners may place advertising on the Service. By submitting suggestions or feedback to Tinder regarding our Service, you agree that Tinder may use and share such feedback for any purpose without compensating you.  You agree that Tinder may access, preserve and disclose your account information and Content if required to do so by law or in a good faith belief that such access, preservation or disclosure is reasonably necessary, such as to: (i) comply with legal process; (ii) enforce this Agreement; (iii) respond to claims that any Content violates the rights of third parties; (iv) respond to your requests for customer service; or (v) protect the rights, property or personal safety of the Company or any other person.  8. Community Rules.  By using the Service, you agree that you will not:   use the Service for any purpose that is illegal or prohibited by this Agreement.  use the Service for any harmful or nefarious purpose.  use the Service in order to damage Tinder.  violate our Community Guidelines , as updated from time to time.  spam, solicit money from or defraud any members.  impersonate any person or entity or post any images of another person without his or her permission.  bully, “stalk,” intimidate, assault, harass, mistreat or defame any person.  post any Content that violates or infringes anyone’s rights, including rights of publicity, privacy, copyright, trademark or other intellectual property or contract right.  post any Content that is hate speech, threatening, sexually explicit or pornographic; incites violence; or contains nudity or graphic or gratuitous violence.  post any Content that promotes racism, bigotry, hatred or physical harm of any kind against any group or individual.  solicit passwords for any purpose, or personal identifying information for commercial or unlawful purposes from other users or disseminate another person’s personal information without his or her permission.  use another user’s account, share an account with another user, or maintain more than one account.  create another account if we have already terminated your account, unless you have our permission.   Tinder reserves the right to investigate and/ or terminate your account without a refund of any purchases if you have violated this Agreement, misused the Service or behaved in a way that Tinder regards as inappropriate or unlawful, including actions or communications that occur on or off the Service.  9. Other Members’ Content.  Although Tinder reserves the right to review and remove Content that violates this Agreement, such Content is the sole responsibility of the member who posts it, and Tinder cannot guarantee that all Content will comply with this Agreement. If you see Content on the Service that violates this Agreement, please report it within the Service or via our contact form.  10. Purchases.  Generally. From time to time, Tinder may offer products and services for purchase (“in app purchases”) through iTunes, Google Play, carrier billing, Tinder direct billing or other payment platforms authorized by Tinder. If you choose to make an in app purchase, you will be prompted to confirm your purchase with the applicable payment provider, and your method of payment (be it your card or a third party account such as Google Play or iTunes) (your “Payment Method”) will be charged at the prices displayed to you for the service(s) you’ve selected as well as any sales or similar taxes that may be imposed on your payments, and you authorize Tinder or the third party account, as applicable, to charge you.  Auto-Renewal. If you purchase an auto-recurring periodic subscription, your Payment Method will continue to be billed for the subscription until you cancel. After your initial subscription commitment period, and again after any subsequent subscription period, your subscription will automatically continue for an additional equivalent period, at the price you agreed to when subscribing. If you do not wish your subscription to renew automatically, or if you want to change or terminate your subscription, you will need to access your third party account (or Account Settings on Tinder) and follow instructions to cancel your subscription, even if you have otherwise deleted your account with us or if you have deleted the Tinder application from your device. Deleting your account on Tinder or deleting the Tinder application from your device does not cancel your subscription; Tinder will retain all funds charged to your Payment Method until you cancel your subscription on Tinder or the third party account, as applicable. If you cancel your subscription, you may use your subscription until the end of your then-current subscription term, and your subscription will not be renewed after your then-current term expires.  Additional Terms that apply if you pay Tinder directly with your Payment Method. If you pay Tinder directly, Tinder may correct any billing errors or mistakes that it makes even if it has already requested or received payment. If you initiate a chargeback or otherwise reverse a payment made with your Payment Method, Tinder may terminate your account immediately in its sole discretion.  You may edit your Payment Method information by visiting Tinder and going to Settings. If a payment is not successfully settled, due to expiration, insufficient funds, or otherwise, and you do not edit your Payment Method information or cancel your subscription, you remain responsible for any uncollected amounts and authorize us to continue billing the Payment Method, as it may be updated. This may result in a change to your payment billing dates. In addition, you authorize us to obtain updated or replacement expiration dates and card numbers for your credit or debit card as provided by your credit or debit card issuer. The terms of your payment will be based on your Payment Method and may be determined by agreements between you and the financial institution, credit card issuer or other provider of your chosen Payment Method. If you reside outside of the Americas, you agree that your payment to Tinder will be through MTCH Technology Services Limited.  Super Likes and Other Virtual Items. From time to time, you may be able to purchase, a limited, personal, non-transferable, non-sublicensable, revocable license to use “virtual items,” including but not limited to Super Likes (collectively, “Virtual Items”). Any Virtual Item balance shown in your account does not constitute a real-world balance or reflect any stored value, but instead constitutes a measurement of the extent of your license. Virtual Items do not incur fees for non-use, however, the license granted to you in Virtual Items will terminate in accordance with the terms of this Agreement, when Tinder ceases providing the Service or your account is otherwise closed or terminated. Tinder, in its sole discretion, reserves the right to charge fees for the right to access or use Virtual Items and/ or may distribute Virtual Items with or without charge. Tinder may manage, regulate, control, modify or eliminate Virtual Items at any time. Tinder shall have no liability to you or any third party in the event that Tinder exercises any such rights. Virtual Items may only be redeemed through the Service. ALL PURCHASES AND REDEMPTIONS OF VIRTUAL ITEMS MADE THROUGH THE SERVICE ARE FINAL AND NON-REFUNDABLE. The provision of Virtual Items for use in the Service is a service that commences immediately upon the acceptance of your purchase of such Virtual Items. YOU ACKNOWLEDGE THAT TINDER IS NOT REQUIRED TO PROVIDE A REFUND FOR ANY REASON, AND THAT YOU WILL NOT RECEIVE MONEY OR OTHER COMPENSATION FOR UNUSED VIRTUAL ITEMS WHEN AN ACCOUNT IS CLOSED, WHETHER SUCH CLOSURE WAS VOLUNTARY OR INVOLUNTARY.  Refunds. Generally, all charges for purchases are nonrefundable, and there are no refunds or credits for partially used periods. We may make an exception if a refund for a subscription offering is requested within fourteen days of the transaction date, or if the laws applicable in your jurisdiction provide for refunds.  For subscribers residing in Arizona, California, Connecticut, Illinois, Iowa, Minnesota, New York, North Carolina, Ohio and Wisconsin, the terms below apply:  You may cancel your subscription, without penalty or obligation, at any time prior to midnight of the third business day following the date you subscribed. In the event that you die before the end of your subscription period, your estate shall be entitled to a refund of that portion of any payment you had made for your subscription which is allocable to the period after your death. In the event that you become disabled (such that you are unable to use the services of Tinder) before the end of your subscription period, you shall be entitled to a refund of that portion of any payment you had made for your subscription which is allocable to the period after your disability by providing the company notice in the same manner as you request a refund as described below.  To request a refund:  If you subscribed using your Apple ID, refunds are handled by Apple, not Tinder. To request a refund, go to iTunes, click on your Apple ID, select “Purchase history,” find the transaction and hit “Report Problem”. You can also submit a request at https://getsupport.apple.com .  If you subscribed using your Google Play Store account or through Tinder directly: please contact customer support with your order number for the Google Play Store (you can find the order number in the order confirmation email or by logging in to Google Wallet) or Tinder (you can find this on your confirmation email). You may also mail or deliver a signed and dated notice which states that you, the buyer, are canceling this agreement, or words of similar effect. Please also include the email address or mobile number associated with your account along with your order number. This notice shall be sent to: Tinder, Attn: Cancellations, P.O. Box 25472, Dallas, Texas 75225, USA (in addition, Ohio members may send a facsimile to 214-853-4309).  11. Notice and Procedure for Making Claims of Copyright Infringement.  If you believe that your work has been copied and posted on the Service in a way that constitutes copyright infringement, please provide our Copyright Agent with the following information:   an electronic or physical signature of the person authorized to act on behalf of the owner of the copyright interest;  a description of the copyrighted work that you claim has been infringed;  a description of where the material that you claim is infringing is located on the Service (and such description must be reasonably sufficient to enable us to find the alleged infringing material);  your contact information, including address, telephone number and email address;  a written statement by you that you have a good faith belief that the disputed use is not authorized by the copyright owner, its agent, or the law; and  a statement by you, made under penalty of perjury, that the above information in your notice is accurate and that you are the copyright owner or authorized to act on the copyright owner’s behalf.   Notice of claims of copyright infringement should be provided to the Company’s Copyright Agent via email to copyright@match.com , by phone to 214-576-3272 or via mail to the following address:  Copyright Compliance Department c/o Match Group Legal 8750 N. Central Expressway, Suite 1400 Dallas, Texas 75231  Tinder will terminate the accounts of repeat infringers.  12. Disclaimers.  TINDER PROVIDES THE SERVICE ON AN “AS IS” AND “AS AVAILABLE” BASIS AND TO THE EXTENT PERMITTED BY APPLICABLE LAW, GRANTS NO WARRANTIES OF ANY KIND, WHETHER EXPRESS, IMPLIED, STATUTORY OR OTHERWISE WITH RESPECT TO THE SERVICE (INCLUDING ALL CONTENT CONTAINED THEREIN), INCLUDING, WITHOUT LIMITATION, ANY IMPLIED WARRANTIES OF SATISFACTORY QUALITY, MERCHANTABILITY, FITNESS FOR A PARTICULAR PURPOSE OR NON-INFRINGEMENT. TINDER DOES NOT REPRESENT OR WARRANT THAT (A) THE SERVICE WILL BE UNINTERRUPTED, SECURE OR ERROR FREE, (B) ANY DEFECTS OR ERRORS IN THE SERVICE WILL BE CORRECTED, OR (C) THAT ANY CONTENT OR INFORMATION YOU OBTAIN ON OR THROUGH THE SERVICE WILL BE ACCURATE.  TINDER TAKES NO RESPONSIBILITY FOR ANY CONTENT THAT YOU OR ANOTHER MEMBER OR THIRD PARTY POSTS, SENDS OR RECEIVES THROUGH THE SERVICE. ANY MATERIAL DOWNLOADED OR OTHERWISE OBTAINED THROUGH THE USE OF THE SERVICE IS ACCESSED AT YOUR OWN DISCRETION AND RISK.  TINDER DISCLAIMS AND TAKES NO RESPONSIBILITY FOR ANY CONDUCT OF YOU OR ANY OTHER MEMBER, ON OR OFF THE SERVICE.  13. Third Party Services.  The Service may contain advertisements and promotions offered by third parties and links to other web sites or resources. Tinder is not responsible for the availability (or lack of availability) of such external websites or resources. If you choose to interact with the third parties made available through our Service, such party’s terms will govern their relationship with you. Tinder is not responsible or liable for such third parties’ terms or actions.   Limitation of Liability.   TO THE FULLEST EXTENT PERMITTED BY APPLICABLE LAW, IN NO EVENT SHALL TINDER, ITS AFFILIATES, EMPLOYEES, LICENSORS OR SERVICE PROVIDERS BE LIABLE FOR ANY INDIRECT, CONSEQUENTIAL, EXEMPLARY, INCIDENTAL, SPECIAL, PUNITIVE, OR ENHANCED DAMAGES, INCLUDING, WITHOUT LIMITATION, LOSS OF PROFITS, WHETHER INCURRED DIRECTLY OR INDIRECTLY, OR ANY LOSS OF DATA, USE, GOODWILL, OR OTHER INTANGIBLE LOSSES, RESULTING FROM: (I) YOUR ACCESS TO OR USE OF OR INABILITY TO ACCESS OR USE THE SERVICE; (II) THE CONDUCT OR CONTENT OF OTHER MEMBERS` OR THIRD PARTIES ON, THROUGH OR FOLLOWING USE OF THE SERVICE; OR (III) UNAUTHORIZED ACCESS, USE OR ALTERATION OF YOUR CONTENT, EVEN IF TINDER HAS BEEN ADVISED AT ANY TIME OF THE POSSIBILITY OF SUCH DAMAGES. NOTWITHSTANDING THE FOREGOING, IN NO EVENT SHALL TINDER’S AGGREGATE LIABILITY TO YOU FOR ANY AND ALL CLAIMS ARISING OUT OF OR RELATING TO THE SERVICE OR THIS AGREEMENT EXCEED THE AMOUNT PAID, IF ANY, BY YOU TO TINDER DURING THE TWENTY-FOUR (24) MONTH PERIOD IMMEDIATELY PRECEDING THE DATE THAT YOU FIRST FILE A LAWSUIT, ARBITRATION OR ANY OTHER LEGAL PROCEEDING AGAINST TINDER, WHETHER IN LAW OR IN EQUITY, IN ANY TRIBUNAL. THE DAMAGES LIMITATION SET FORTH IN THE IMMEDIATELY PRECEDING SENTENCE APPLIES (i) REGARDLESS OF THE GROUND UPON WHICH LIABILITY IS BASED (WHETHER DEFAULT, CONTRACT, TORT, STATUTE, OR OTHERWISE), (ii) IRRESPECTIVE OF THE TYPE OF BREACH OF OBLIGATIONS, AND (iii) WITH RESPECT TO ALL EVENTS, THE SERVICE, AND THIS AGREEMENT.  THE LIMITATION OF LIABILITY PROVISIONS SET FORTH IN THIS SECTION 14 SHALL APPLY EVEN IF YOUR REMEDIES UNDER THIS AGREEMENT FAIL WITH RESPECT TO THEIR ESSENTIAL PURPOSE.  SOME JURISDICTIONS DO NOT ALLOW THE EXCLUSION OR LIMITATION OF CERTAIN DAMAGES, SO SOME OR ALL OF THE EXCLUSIONS AND LIMITATIONS IN THIS SECTION MAY NOT APPLY TO YOU.   Retroactive and Prospective Arbitration, Class-Action Waiver, and Jury Waiver.   Except where prohibited by applicable law:   The exclusive means of resolving any dispute or claim arising out of or relating to this Agreement (including any alleged breach thereof), or the Service, regardless of the date of accrual and including past, pending, and future claims, shall be BINDING ARBITRATION administered by JAMS under the JAMS Streamlined Arbitration Rules & Procedures, except as modified by our Arbitration Procedures. The one exception to the exclusivity of arbitration is that either party has the right to bring an individual claim against the other in a small claims court of competent jurisdiction, or, if filed in arbitration, the responding party may request that the dispute proceed in small claims court instead if the claim is within the jurisdiction of the small claims court. If the request to proceed in small claims court is made before an arbitrator has been appointed, the arbitration shall be administratively closed. If the request to proceed in small claims court is made after an arbitrator has been appointed, the arbitrator shall determine whether the dispute should remain in arbitration or instead be decided in small claims court. Such arbitration shall be conducted by written submissions only, unless either you or Tinder elect to invoke the right to an oral hearing before the Arbitrator. But whether you choose arbitration or small claims court, you agree that you will not under any circumstances commence, maintain, or participate in any class action, class arbitration, or other representative action or proceeding against Tinder.  By accepting this Agreement, you agree to the Arbitration Agreement in this Section 15 (subject to the limited one-time right to opt out within thirty (30) days belonging to members who first created an account or used the Service prior to May 9, 2018 (such members, “Legacy Members\"), discussed below). In doing so, BOTH YOU AND TINDER GIVE UP THE RIGHT TO GO TO COURT to assert or defend any claims between you and Tinder (except for matters that may be properly taken to a small claims court and are within such court’s jurisdiction). YOU ALSO GIVE UP YOUR RIGHT TO PARTICIPATE IN A CLASS ACTION OR OTHER CLASS PROCEEDING, including, without limitation, any past, pending or future class actions, including those existing as of the date of this Agreement, which include without limitation: Allan Candelore v. Tinder, Inc., Los Angeles Superior Court, State of California, County of Los Angeles, Case No. BC583162 (generally claiming, on behalf of California citizens who subscribed to Tinder Plus when they were at least 30 years old that Tinder violated the California Unruh Civil Rights Act by charging older subscribers a higher price than Tinder charged subscribers younger than 30) and Kim v. Tinder, Inc., United States District Court, Central District of California, Case No. 2:18-cv-03093 generally claiming, on behalf of California citizens who subscribed to Tinder Plus when they were at least 30 years old that Tinder violated the California Unruh Civil Rights Act by charging older subscribers a higher price than Tinder charged subscribers younger than 30). This list may not be exhaustive, and there may be other currently pending actions against Tinder.  If you assert a claim against Tinder outside of small claims court (and Tinder does not request that the claim be moved to small claims court), your rights will be determined by a NEUTRAL ARBITRATOR, NOT A JUDGE OR JURY, and the arbitrator shall determine all claims and all issues regarding the arbitrability of the dispute. The same is true for Tinder. Both you and Tinder are entitled to a fair hearing before the arbitrator. The arbitrator can generally grant the relief that a court can, including the ability to hear a dispositive motion (which may include a dispositive motion based upon the parties’ pleadings, as well as a dispositive motion based upon the parties’ pleadings along with the evidence submitted), but you should note that arbitration proceedings are usually simpler and more streamlined than trials and other judicial proceedings. Decisions by the arbitrator are enforceable in court and may be overturned by a court only for very limited reasons. For details on the arbitration process, see our Arbitration Procedures .  The Jurisdiction and Venue provisions in Sections 16 and 17 are incorporated and are applicable to this Arbitration Agreement.   As you decide whether to agree to this Arbitration Agreement, here are some important considerations:   Arbitration is a process of private dispute resolution that does not involve the civil courts, a civil judge or a jury. Instead, the parties’ dispute is decided by a private arbitrator selected by the parties under the JAMS Streamlined Arbitration Rules & Procedures. Arbitration does not limit or affect the legal claims you as an individual may bring against Tinder. Agreeing to arbitration will only affect where those claims may be brought and how they will be resolved.  Arbitration is generally considered to be a more rapid dispute resolution process than the judicial system, but that is not always the case. The Arbitrator will typically determine whether Tinder or you will be required to pay or split the cost of any arbitration with Tinder, based on the circumstances presented.  IMPORTANT: THERE ARE NOW, AND MAY BE IN THE FUTURE, LAWSUITS AGAINST TINDER ALLEGING CLASS AND/OR REPRESENTATIVE CLAIMS ON YOUR BEHALF INCLUDING BUT NOT LIMITED TO CLASS ACTIONS DESCRIBED IN THIS SECTION 15, WHICH IF SUCCESSFUL, COULD POTENTIALLY RESULT IN SOME MONETARY OR OTHER RECOVERY TO YOU, IF YOU ELECT TO OPT OUT OF THE RETROACTIVE APPLICATION OF THIS ARBITRATION AGREEMENT. THE MERE EXISTENCE OF SUCH CLASS AND/OR REPRESENTATIVE LAWSUITS, HOWEVER, DOES NOT MEAN THAT SUCH LAWSUITS WILL ULTIMATELY SUCCEED, OR, EVEN IF SUCCESSFUL, THAT YOU WOULD BE ENTITLED TO ANY RECOVERY.  You will be precluded from bringing any class or representative action against Tinder, unless you timely opt out of the retroactive application of this Arbitration Agreement, and you will also be precluded from participating in any recovery resulting from any class or representative action brought against Tinder, in each case provided you are not already bound by an arbitration agreement and class action waiver previously agreed to with Tinder.   WHETHER TO AGREE TO THIS ARBITRATION AGREEMENT IS AN IMPORTANT DECISION. IT IS YOUR DECISION TO MAKE, AND YOU SHOULD TAKE CARE TO CONDUCT FURTHER RESEARCH AND TO CONSULT WITH OTHERS — INCLUDING BUT NOT LIMITED TO AN ATTORNEY — REGARDING THE CONSEQUENCES OF YOUR DECISION, JUST AS YOU WOULD WHEN MAKING ANY OTHER IMPORTANT BUSINESS OR LIFE DECISION.  IF FOR ANY REASON THIS ARBITRATION AGREEMENT IS FOUND TO BE INVALID, YOU WILL NEVERTHELESS STILL BE BOUND BY ANY PRIOR VALID ARBITRATION AGREEMENT THAT YOU ENTERED INTO WITH TINDER.  Limited One-Time Right To Opt Out Of The Retroactive Application of the Arbitration Agreement  NOTE: THIS OPT OUT SECTION DOES NOT (a) APPLY TO NEW MEMBERS AFTER MAY 8, 2018 (I.E., MEMBERS WHO HAD NEVER PREVIOUSLY USED TINDER AND WHO FIRST CREATED AN ACCOUNT AFTER MAY 8, 2018) (b) EXEMPT ANY CLAIMS OR DISPUTES OF ANY MEMBER ARISING AFTER MAY 8, 2018 FROM THE APPLICATION OF THE ARBITRATION AGREEMENT IN THIS SECTION 15, OR (c) APPLY TO ANY LEGACY MEMBER WHO LOGGED IN TO TINDER OR USED THE SERVICE AFTER MAY 8, 2018, AND WHO DID NOT OR DOES NOT, AS APPLICABLE, EXERCISE SUCH MEMBER’S ONE-TIME OPT OUT RIGHT WITHIN 30 DAYS AFTER SUCH MEMBER’S FIRST LOGIN OR USE OF THE SERVICE AFTER SUCH DATE.  SUBJECT TO THE FOREGOING PARAGRAPH, IF YOU ARE A LEGACY MEMBER (EXISTING MEMBER PRIOR TO MAY 9, 2018), AND YOUR OPT OUT RIGHT HAS NOT PREVIOUSLY EXPIRED, AND IF YOU DO NOT AGREE TO BE SUBJECT TO THIS ARBITRATION AGREEMENT ON A RETROACTIVE BASIS, YOU MUST OPT OUT OF THE RETROACTIVE APPLICATION OF THIS ARBITRATION AGREEMENT WITHIN 30 DAYS AFTER THE FIRST DATE ON WHICH YOU LOGIN TO TINDER OR USE THE SERVICE AFTER MAY 8, 2018, IN THE FOLLOWING SPECIFIED MANNER:  By sending an e-mail to tinderoptout@match.com within 30 days after the first date on which you login to Tinder or use the Service. The e-mail opt out must contain the following to be effective: your full name, address, email address and/ or phone number associated with your Tinder account, and a statement that you are opting out of the Retroactive Application of this Arbitration Agreement. Please do not direct any customer support inquiries to tinderoptout@match.com, as they will not be addressed; such inquiries should be directed to customer support .  Should you not opt out of the retroactive application of this Arbitration Agreement within such 30 day period, you and Tinder shall be bound by the terms of this Arbitration Agreement, including its retroactive effect. You have the right to consult with counsel of your choice (at your cost) concerning this Arbitration Agreement. IF YOU OPT OUT OF THE RETROACTIVE EFFECT OF THIS ARBITRATION AGREEMENT, YOU WILL STILL BE SUBJECT TO AND BOUND BY ANY PRIOR ARBITRATION AGREEMENTS/ PROVISIONS YOU PREVIOUSLY AGREED TO WITH TINDER AS WELL AS THIS ARBITRATION AGREEMENT ON A GOING FORWARD BASIS.  16. Governing Law.  Except where our arbitration agreement is prohibited by law, the laws of Texas, U.S.A., without regard to its conflict of laws rules, shall apply to any disputes arising out of or relating to this Agreement, the Service, or your relationship with Tinder. Notwithstanding the foregoing, the Arbitration Agreement in Section 15 above shall be governed by the Federal Arbitration Act.  17. Venue.  Except for claims that may be properly brought in a small claims court of competent jurisdiction, all claims arising out of or relating to this Agreement, to the Service, or to your relationship with Tinder that for whatever reason are not submitted to arbitration will be litigated exclusively in the federal or state courts of Dallas County, Texas, U.S.A. You and Tinder consent to the exercise of personal jurisdiction of courts in the State of Texas and waive any claim that such courts constitute an inconvenient forum.  18. Indemnity by You.  You agree, to the extent permitted under applicable law, to indemnify, defend and hold harmless Tinder, our affiliates, and their and our respective officers, directors, agents, and employees from and against any and all complaints, demands, claims, damages, losses, costs, liabilities and expenses, including attorney’s fees, due to, arising out of, or relating in any way to your access to or use of the Service, your Content, or your breach of this Agreement.  19. Entire Agreement; Other.  This Agreement, along with the Privacy Policy , Cookie Policy , Safety Tips and Arbitration Procedures , and any terms disclosed to you if you purchase or have purchased additional features, products or services we offer on the Service, contains the entire agreement between you and Tinder regarding your relationship with Tinder and the use of the Service, with the following exception: anyone who opted out of the retroactive application of Section 15 is still subject to and bound by any prior agreements to arbitrate with Tinder as well as this agreement to arbitrate on a going forward basis. If any provision of this Agreement is held invalid, the remainder of this Agreement shall continue in full force and effect. The failure of Tinder to exercise or enforce any right or provision of this Agreement shall not constitute a waiver of such right or provision. You agree that your Tinder account is non-transferable and all of your rights to your account and its Content terminate upon your death. No agency, partnership, joint venture, fiduciary or other special relationship or employment is created as a result of this Agreement and you may not make any representations on behalf of or bind Tinder in any manner. Language English Español(MX) Company Jobs Contact Security Community Blog Tech Blog Press Support Partners Hey! Vina Spotify Legal Privacy Terms Cookie Policy Safety and Policy Center Safety Tips Community Guidelines Intellectual Property\n"
          ],
          "name": "stdout"
        }
      ]
    },
    {
      "cell_type": "code",
      "metadata": {
        "colab": {
          "base_uri": "https://localhost:8080/"
        },
        "id": "cdXLiuJb_aGI",
        "outputId": "ae5fdcc3-b594-4102-9855-854bf5123029"
      },
      "source": [
        "bert_abstract = text_from_html(html)\n",
        "question = \"Can I get a refund?\"\n",
        "\n",
        "answer_question(question, bert_abstract)"
      ],
      "execution_count": 56,
      "outputs": [
        {
          "output_type": "stream",
          "text": [
            "length of input_ids: 7944\n",
            "number of splits: 16\n",
            "ind: 512\n",
            "Computing answer for split i: [101, 2064, 1045, 2131, 1037, 25416, 8630, 1029, 102, 2653, 2394, 9686, 9739, 4747, 1006, 25630, 1007, 2194, 5841, 3967, 3036, 2451, 9927, 6627, 9927, 2811, 2490, 5826, 4931, 999, 19354, 2050, 3962, 8757, 3423, 9394, 3408, 17387, 3343, 3808, 1998, 3343, 2415, 3808, 10247, 2451, 11594, 7789, 3200, 3408, 1997, 2224, 2197, 8001, 2006, 2258, 2654, 1010, 12609, 6160, 2000, 9543, 4063, 1010, 3498, 2011, 2674, 2177, 1010, 11775, 1006, 1523, 2149, 1010, 1524, 1523, 2057, 1010, 1524, 1996, 1523, 2194, 1524, 2030, 1523, 9543, 4063, 1524, 1007, 1012, 5060, 2000, 2662, 17073, 1024, 2017, 2089, 17542, 2115, 15002, 1010, 2302, 6531, 2030, 14987, 1010, 2012, 2151, 2051, 3188, 2000, 7090, 1997, 1996, 2353, 2449, 2154, 2206, 1996, 3058, 2017, 4942, 29234, 2094, 1012, 2065, 2017, 4942, 29234, 2094, 2478, 2115, 6207, 8909, 1010, 25416, 26698, 2024, 8971, 2011, 6207, 1010, 2025, 9543, 4063, 1012, 2065, 2017, 4299, 2000, 5227, 1037, 25416, 8630, 1010, 3531, 3942, 16770, 1024, 1013, 1013, 4152, 6279, 6442, 1012, 6207, 1012, 4012, 1012, 2065, 2017, 4942, 29234, 2094, 2478, 2115, 8224, 2377, 3573, 4070, 2030, 2083, 9543, 4063, 3784, 1024, 3967, 8013, 2490, 1015, 1012, 9920, 1997, 3408, 1997, 2224, 3820, 1012, 2011, 4526, 1037, 9543, 4063, 4070, 2030, 2011, 2478, 2151, 9543, 4063, 2326, 1010, 3251, 2083, 1037, 4684, 5080, 1010, 4684, 4646, 2030, 3274, 1006, 13643, 1010, 1996, 1523, 2326, 1524, 1007, 2017, 5993, 2000, 2022, 5391, 2011, 1006, 1045, 1007, 2122, 3408, 1997, 2224, 1010, 1006, 2462, 1007, 2256, 9394, 3343, 1010, 17387, 3343, 1010, 18010, 8853, 1998, 3808, 10247, 1010, 2169, 1997, 2029, 2003, 5100, 2011, 4431, 2046, 2023, 3820, 1010, 1998, 1006, 3523, 1007, 2151, 3408, 21362, 2000, 2017, 2065, 2017, 5309, 2030, 2031, 4156, 3176, 2838, 1010, 3688, 2030, 2578, 2057, 3749, 2006, 1996, 2326, 1006, 13643, 1010, 2023, 1523, 3820, 1524, 1007, 1012, 2065, 2017, 2079, 2025, 5138, 1998, 5993, 2000, 2022, 5391, 2011, 2035, 1997, 1996, 3408, 1997, 2023, 3820, 1006, 2060, 2084, 1996, 3132, 2028, 1011, 2051, 23569, 2041, 2157, 2005, 3056, 2372, 3024, 2005, 1999, 2930, 2321, 1007, 1010, 2017, 2323, 2025, 2224, 1996, 2326, 1012, 2057, 2089, 2191, 3431, 2000, 2023, 3820, 1998, 2000, 1996, 2326, 2013, 2051, 2000, 2051, 1012, 2057, 2089, 2079, 2023, 2005, 1037, 3528, 1997, 4436, 2164, 2000, 8339, 3431, 1999, 2030, 5918, 1997, 1996, 2375, 1010, 2047, 2838, 1010, 2030, 3431, 1999, 2449, 6078, 1012, 1996, 2087, 3522, 2544, 1997, 2023, 3820, 2097, 2022, 6866, 2006, 1996, 2326, 2104, 10906, 1998, 2036, 2006, 2288, 22254, 2121, 1012, 4012, 1010, 1998, 2017, 2323, 5570, 4638, 2005, 1996, 2087, 3522, 2544, 1012, 1996, 2087, 3522, 2544, 2003, 1996, 2544, 2008, 12033, 1012, 2065, 1996, 3431, 2421, 3430, 3431, 2008, 7461, 2115, 2916, 2030, 14422, 1010, 2057, 2097, 2025, 8757, 2017, 1999, 5083, 1997, 1996, 3431, 2011, 9608, 2965, 1010, 2029, 2071, 2421, 26828, 2083, 1996, 2326, 2030, 3081, 10373, 1012, 2065, 2017, 3613, 2000, 2224, 1996, 2326, 2044, 1996, 3431, 2468, 4621, 1010, 2059, 2017, 5993, 2000, 1996, 8001, 3820, 1012, 2017, 5993, 2008, 2023, 3820, 4618, 3565, 6924, 2063, 2151, 3188]\n",
            "Query has 512 tokens.\n",
            "\n",
            "Answer: \"If you wish to request a refund, please visit https:// getsupport. apple. com.\"\n",
            "testing to see if rest still works\n"
          ],
          "name": "stdout"
        }
      ]
    }
  ]
}